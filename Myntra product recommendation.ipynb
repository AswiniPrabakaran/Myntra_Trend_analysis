{
 "cells": [
  {
   "cell_type": "code",
   "execution_count": 3,
   "id": "1b7ebc64",
   "metadata": {},
   "outputs": [
    {
     "name": "stdout",
     "output_type": "stream",
     "text": [
      "Defaulting to user installation because normal site-packages is not writeable\n",
      "Requirement already satisfied: tensorflow in c:\\users\\asus\\appdata\\roaming\\python\\python310\\site-packages (2.15.0)\n",
      "Requirement already satisfied: pandas in c:\\programdata\\anaconda3\\lib\\site-packages (1.5.3)\n",
      "Requirement already satisfied: scikit-learn in c:\\programdata\\anaconda3\\lib\\site-packages (1.2.1)\n",
      "Requirement already satisfied: tensorflow-intel==2.15.0 in c:\\users\\asus\\appdata\\roaming\\python\\python310\\site-packages (from tensorflow) (2.15.0)\n",
      "Requirement already satisfied: protobuf!=4.21.0,!=4.21.1,!=4.21.2,!=4.21.3,!=4.21.4,!=4.21.5,<5.0.0dev,>=3.20.3 in c:\\users\\asus\\appdata\\roaming\\python\\python310\\site-packages (from tensorflow-intel==2.15.0->tensorflow) (4.23.4)\n",
      "Requirement already satisfied: setuptools in c:\\programdata\\anaconda3\\lib\\site-packages (from tensorflow-intel==2.15.0->tensorflow) (65.6.3)\n",
      "Requirement already satisfied: google-pasta>=0.1.1 in c:\\users\\asus\\appdata\\roaming\\python\\python310\\site-packages (from tensorflow-intel==2.15.0->tensorflow) (0.2.0)\n",
      "Requirement already satisfied: tensorflow-estimator<2.16,>=2.15.0 in c:\\users\\asus\\appdata\\roaming\\python\\python310\\site-packages (from tensorflow-intel==2.15.0->tensorflow) (2.15.0)\n",
      "Requirement already satisfied: tensorflow-io-gcs-filesystem>=0.23.1 in c:\\users\\asus\\appdata\\roaming\\python\\python310\\site-packages (from tensorflow-intel==2.15.0->tensorflow) (0.31.0)\n",
      "Requirement already satisfied: absl-py>=1.0.0 in c:\\users\\asus\\appdata\\roaming\\python\\python310\\site-packages (from tensorflow-intel==2.15.0->tensorflow) (2.1.0)\n",
      "Requirement already satisfied: six>=1.12.0 in c:\\programdata\\anaconda3\\lib\\site-packages (from tensorflow-intel==2.15.0->tensorflow) (1.16.0)\n",
      "Requirement already satisfied: opt-einsum>=2.3.2 in c:\\users\\asus\\appdata\\roaming\\python\\python310\\site-packages (from tensorflow-intel==2.15.0->tensorflow) (3.3.0)\n",
      "Requirement already satisfied: packaging in c:\\programdata\\anaconda3\\lib\\site-packages (from tensorflow-intel==2.15.0->tensorflow) (22.0)\n",
      "Requirement already satisfied: grpcio<2.0,>=1.24.3 in c:\\users\\asus\\appdata\\roaming\\python\\python310\\site-packages (from tensorflow-intel==2.15.0->tensorflow) (1.60.0)\n",
      "Requirement already satisfied: flatbuffers>=23.5.26 in c:\\users\\asus\\appdata\\roaming\\python\\python310\\site-packages (from tensorflow-intel==2.15.0->tensorflow) (23.5.26)\n",
      "Requirement already satisfied: numpy<2.0.0,>=1.23.5 in c:\\programdata\\anaconda3\\lib\\site-packages (from tensorflow-intel==2.15.0->tensorflow) (1.23.5)\n",
      "Requirement already satisfied: gast!=0.5.0,!=0.5.1,!=0.5.2,>=0.2.1 in c:\\users\\asus\\appdata\\roaming\\python\\python310\\site-packages (from tensorflow-intel==2.15.0->tensorflow) (0.5.4)\n",
      "Requirement already satisfied: wrapt<1.15,>=1.11.0 in c:\\programdata\\anaconda3\\lib\\site-packages (from tensorflow-intel==2.15.0->tensorflow) (1.14.1)\n",
      "Requirement already satisfied: h5py>=2.9.0 in c:\\programdata\\anaconda3\\lib\\site-packages (from tensorflow-intel==2.15.0->tensorflow) (3.7.0)\n",
      "Requirement already satisfied: typing-extensions>=3.6.6 in c:\\users\\asus\\appdata\\roaming\\python\\python310\\site-packages (from tensorflow-intel==2.15.0->tensorflow) (4.9.0)\n",
      "Requirement already satisfied: astunparse>=1.6.0 in c:\\users\\asus\\appdata\\roaming\\python\\python310\\site-packages (from tensorflow-intel==2.15.0->tensorflow) (1.6.3)\n",
      "Requirement already satisfied: termcolor>=1.1.0 in c:\\users\\asus\\appdata\\roaming\\python\\python310\\site-packages (from tensorflow-intel==2.15.0->tensorflow) (2.4.0)\n",
      "Requirement already satisfied: tensorboard<2.16,>=2.15 in c:\\users\\asus\\appdata\\roaming\\python\\python310\\site-packages (from tensorflow-intel==2.15.0->tensorflow) (2.15.1)\n",
      "Requirement already satisfied: keras<2.16,>=2.15.0 in c:\\users\\asus\\appdata\\roaming\\python\\python310\\site-packages (from tensorflow-intel==2.15.0->tensorflow) (2.15.0)\n",
      "Requirement already satisfied: libclang>=13.0.0 in c:\\users\\asus\\appdata\\roaming\\python\\python310\\site-packages (from tensorflow-intel==2.15.0->tensorflow) (16.0.6)\n",
      "Requirement already satisfied: ml-dtypes~=0.2.0 in c:\\users\\asus\\appdata\\roaming\\python\\python310\\site-packages (from tensorflow-intel==2.15.0->tensorflow) (0.2.0)\n",
      "Requirement already satisfied: pytz>=2020.1 in c:\\programdata\\anaconda3\\lib\\site-packages (from pandas) (2022.7)\n",
      "Requirement already satisfied: python-dateutil>=2.8.1 in c:\\programdata\\anaconda3\\lib\\site-packages (from pandas) (2.8.2)\n",
      "Requirement already satisfied: threadpoolctl>=2.0.0 in c:\\programdata\\anaconda3\\lib\\site-packages (from scikit-learn) (2.2.0)\n",
      "Requirement already satisfied: joblib>=1.1.1 in c:\\programdata\\anaconda3\\lib\\site-packages (from scikit-learn) (1.1.1)\n",
      "Requirement already satisfied: scipy>=1.3.2 in c:\\programdata\\anaconda3\\lib\\site-packages (from scikit-learn) (1.10.0)\n",
      "Requirement already satisfied: wheel<1.0,>=0.23.0 in c:\\programdata\\anaconda3\\lib\\site-packages (from astunparse>=1.6.0->tensorflow-intel==2.15.0->tensorflow) (0.38.4)\n",
      "Requirement already satisfied: werkzeug>=1.0.1 in c:\\programdata\\anaconda3\\lib\\site-packages (from tensorboard<2.16,>=2.15->tensorflow-intel==2.15.0->tensorflow) (2.2.2)\n",
      "Requirement already satisfied: tensorboard-data-server<0.8.0,>=0.7.0 in c:\\users\\asus\\appdata\\roaming\\python\\python310\\site-packages (from tensorboard<2.16,>=2.15->tensorflow-intel==2.15.0->tensorflow) (0.7.2)\n",
      "Requirement already satisfied: requests<3,>=2.21.0 in c:\\programdata\\anaconda3\\lib\\site-packages (from tensorboard<2.16,>=2.15->tensorflow-intel==2.15.0->tensorflow) (2.28.1)\n",
      "Requirement already satisfied: markdown>=2.6.8 in c:\\programdata\\anaconda3\\lib\\site-packages (from tensorboard<2.16,>=2.15->tensorflow-intel==2.15.0->tensorflow) (3.4.1)\n",
      "Requirement already satisfied: google-auth<3,>=1.6.3 in c:\\users\\asus\\appdata\\roaming\\python\\python310\\site-packages (from tensorboard<2.16,>=2.15->tensorflow-intel==2.15.0->tensorflow) (2.26.2)\n",
      "Requirement already satisfied: google-auth-oauthlib<2,>=0.5 in c:\\users\\asus\\appdata\\roaming\\python\\python310\\site-packages (from tensorboard<2.16,>=2.15->tensorflow-intel==2.15.0->tensorflow) (1.2.0)\n",
      "Requirement already satisfied: cachetools<6.0,>=2.0.0 in c:\\users\\asus\\appdata\\roaming\\python\\python310\\site-packages (from google-auth<3,>=1.6.3->tensorboard<2.16,>=2.15->tensorflow-intel==2.15.0->tensorflow) (5.3.2)\n",
      "Requirement already satisfied: rsa<5,>=3.1.4 in c:\\users\\asus\\appdata\\roaming\\python\\python310\\site-packages (from google-auth<3,>=1.6.3->tensorboard<2.16,>=2.15->tensorflow-intel==2.15.0->tensorflow) (4.9)\n",
      "Requirement already satisfied: pyasn1-modules>=0.2.1 in c:\\programdata\\anaconda3\\lib\\site-packages (from google-auth<3,>=1.6.3->tensorboard<2.16,>=2.15->tensorflow-intel==2.15.0->tensorflow) (0.2.8)\n",
      "Requirement already satisfied: requests-oauthlib>=0.7.0 in c:\\users\\asus\\appdata\\roaming\\python\\python310\\site-packages (from google-auth-oauthlib<2,>=0.5->tensorboard<2.16,>=2.15->tensorflow-intel==2.15.0->tensorflow) (1.3.1)\n",
      "Requirement already satisfied: charset-normalizer<3,>=2 in c:\\programdata\\anaconda3\\lib\\site-packages (from requests<3,>=2.21.0->tensorboard<2.16,>=2.15->tensorflow-intel==2.15.0->tensorflow) (2.0.4)\n",
      "Requirement already satisfied: certifi>=2017.4.17 in c:\\programdata\\anaconda3\\lib\\site-packages (from requests<3,>=2.21.0->tensorboard<2.16,>=2.15->tensorflow-intel==2.15.0->tensorflow) (2022.12.7)\n",
      "Requirement already satisfied: urllib3<1.27,>=1.21.1 in c:\\programdata\\anaconda3\\lib\\site-packages (from requests<3,>=2.21.0->tensorboard<2.16,>=2.15->tensorflow-intel==2.15.0->tensorflow) (1.26.14)\n",
      "Requirement already satisfied: idna<4,>=2.5 in c:\\programdata\\anaconda3\\lib\\site-packages (from requests<3,>=2.21.0->tensorboard<2.16,>=2.15->tensorflow-intel==2.15.0->tensorflow) (3.4)\n",
      "Requirement already satisfied: MarkupSafe>=2.1.1 in c:\\programdata\\anaconda3\\lib\\site-packages (from werkzeug>=1.0.1->tensorboard<2.16,>=2.15->tensorflow-intel==2.15.0->tensorflow) (2.1.1)\n",
      "Requirement already satisfied: pyasn1<0.5.0,>=0.4.6 in c:\\programdata\\anaconda3\\lib\\site-packages (from pyasn1-modules>=0.2.1->google-auth<3,>=1.6.3->tensorboard<2.16,>=2.15->tensorflow-intel==2.15.0->tensorflow) (0.4.8)\n",
      "Requirement already satisfied: oauthlib>=3.0.0 in c:\\users\\asus\\appdata\\roaming\\python\\python310\\site-packages (from requests-oauthlib>=0.7.0->google-auth-oauthlib<2,>=0.5->tensorboard<2.16,>=2.15->tensorflow-intel==2.15.0->tensorflow) (3.2.2)\n"
     ]
    }
   ],
   "source": [
    "!pip install tensorflow pandas scikit-learn"
   ]
  },
  {
   "cell_type": "code",
   "execution_count": 4,
   "id": "bea78062",
   "metadata": {},
   "outputs": [],
   "source": [
    "import pandas as pd\n",
    "from sklearn.preprocessing import MinMaxScaler\n",
    "import numpy as np\n",
    "import tensorflow as tf\n",
    "from sklearn.model_selection import train_test_split"
   ]
  },
  {
   "cell_type": "code",
   "execution_count": 10,
   "id": "cee0540b",
   "metadata": {},
   "outputs": [],
   "source": [
    "# Load the dataset\n",
    "data = pd.read_csv(\"C:/Users/Asus/Downloads/myntra202305041052.csv\")\n",
    "data =data.iloc[:5000,:]"
   ]
  },
  {
   "cell_type": "code",
   "execution_count": 11,
   "id": "8190029f",
   "metadata": {},
   "outputs": [
    {
     "name": "stdout",
     "output_type": "stream",
     "text": [
      "<class 'pandas.core.frame.DataFrame'>\n",
      "RangeIndex: 5000 entries, 0 to 4999\n",
      "Data columns (total 11 columns):\n",
      " #   Column       Non-Null Count  Dtype  \n",
      "---  ------       --------------  -----  \n",
      " 0   id           5000 non-null   int64  \n",
      " 1   name         5000 non-null   object \n",
      " 2   img          5000 non-null   object \n",
      " 3   asin         5000 non-null   object \n",
      " 4   price        5000 non-null   float64\n",
      " 5   mrp          5000 non-null   float64\n",
      " 6   rating       5000 non-null   float64\n",
      " 7   ratingTotal  5000 non-null   int64  \n",
      " 8   discount     5000 non-null   int64  \n",
      " 9   seller       5000 non-null   object \n",
      " 10  purl         5000 non-null   object \n",
      "dtypes: float64(3), int64(3), object(5)\n",
      "memory usage: 429.8+ KB\n"
     ]
    }
   ],
   "source": [
    "data.info()"
   ]
  },
  {
   "cell_type": "code",
   "execution_count": 12,
   "id": "95c5e42e",
   "metadata": {},
   "outputs": [],
   "source": [
    "# Normalization\n",
    "scaler = MinMaxScaler()\n",
    "data['rating_normalized'] = scaler.fit_transform(data[['rating']])\n",
    "data['score'] = data['rating_normalized']"
   ]
  },
  {
   "cell_type": "code",
   "execution_count": 27,
   "id": "b3ef25b1",
   "metadata": {},
   "outputs": [],
   "source": [
    "# user & id mapping\n",
    "user_ids = data['id'].unique().tolist()\n",
    "item_ids = data['asin'].unique().tolist()\n",
    "\n",
    "user_id_map = {id: idx for idx, id in enumerate(user_ids)}\n",
    "item_id_map = {id: idx for idx, id in enumerate(item_ids)}\n",
    "\n",
    "data['user'] = data['id'].map(user_id_map)\n",
    "data['item'] = data['asin'].map(item_id_map)"
   ]
  },
  {
   "cell_type": "code",
   "execution_count": 28,
   "id": "3cfd0342",
   "metadata": {},
   "outputs": [],
   "source": [
    "# Split the data into training and testing\n",
    "train_data, test_data = train_test_split(data, test_size=0.2, random_state=42)"
   ]
  },
  {
   "cell_type": "code",
   "execution_count": 30,
   "id": "b1501bf2",
   "metadata": {},
   "outputs": [],
   "source": [
    "num_users = len(user_ids)\n",
    "num_items = len(item_ids)\n",
    "embedding_size = 50\n",
    "#define model\n",
    "user_input = tf.keras.layers.Input(shape=(1,), dtype='int32', name='user_input')\n",
    "item_input = tf.keras.layers.Input(shape=(1,), dtype='int32', name='item_input')\n",
    "\n",
    "user_embedding = tf.keras.layers.Embedding(input_dim=num_users, output_dim=embedding_size, name='user_embedding')(user_input)\n",
    "item_embedding = tf.keras.layers.Embedding(input_dim=num_items, output_dim=embedding_size, name='item_embedding')(item_input)\n",
    "\n",
    "user_vecs = tf.keras.layers.Flatten()(user_embedding)\n",
    "item_vecs = tf.keras.layers.Flatten()(item_embedding)\n",
    "\n",
    "concat = tf.keras.layers.Concatenate()([user_vecs, item_vecs])\n",
    "\n",
    "dense = tf.keras.layers.Dense(128, activation='relu')(concat)\n",
    "dense = tf.keras.layers.Dense(64, activation='relu')(dense)\n",
    "output = tf.keras.layers.Dense(1)(dense)\n",
    "\n",
    "model = tf.keras.models.Model([user_input, item_input], output)\n",
    "model.compile(optimizer='adam', loss='mse')"
   ]
  },
  {
   "cell_type": "code",
   "execution_count": 31,
   "id": "61760446",
   "metadata": {},
   "outputs": [
    {
     "name": "stdout",
     "output_type": "stream",
     "text": [
      "Epoch 1/7\n",
      "57/57 [==============================] - 2s 7ms/step - loss: 0.2236 - val_loss: 0.1772\n",
      "Epoch 2/7\n",
      "57/57 [==============================] - 0s 5ms/step - loss: 0.1403 - val_loss: 0.1916\n",
      "Epoch 3/7\n",
      "57/57 [==============================] - 0s 4ms/step - loss: 0.0260 - val_loss: 0.2089\n",
      "Epoch 4/7\n",
      "57/57 [==============================] - 0s 5ms/step - loss: 0.0093 - val_loss: 0.1957\n",
      "Epoch 5/7\n",
      "57/57 [==============================] - 0s 4ms/step - loss: 0.0031 - val_loss: 0.1963\n",
      "Epoch 6/7\n",
      "57/57 [==============================] - 0s 4ms/step - loss: 8.2048e-04 - val_loss: 0.1956\n",
      "Epoch 7/7\n",
      "57/57 [==============================] - 0s 4ms/step - loss: 3.9877e-04 - val_loss: 0.1962\n"
     ]
    },
    {
     "data": {
      "text/plain": [
       "<keras.src.callbacks.History at 0x2ea51003fd0>"
      ]
     },
     "execution_count": 31,
     "metadata": {},
     "output_type": "execute_result"
    }
   ],
   "source": [
    "# Training\n",
    "train_user_data = train_data['user'].values\n",
    "train_item_data = train_data['item'].values\n",
    "train_score_data = train_data['score'].values\n",
    "\n",
    "model.fit([train_user_data, train_item_data], train_score_data, epochs=7, batch_size=64, validation_split=0.1)"
   ]
  },
  {
   "cell_type": "code",
   "execution_count": 36,
   "id": "7451e2d4",
   "metadata": {},
   "outputs": [
    {
     "name": "stdout",
     "output_type": "stream",
     "text": [
      "1/1 [==============================] - 0s 31ms/step\n",
      "Product Name: Men Solid Oversized Cotton, Score: 0.82, URL: https://www.myntra.com/tshirts/difference-of-opinion/difference-of-opinion-men-mint-green-round-neck-drop-shoulder-sleeves-cotton-loose-t-shirt/16407468/buy\n",
      "Product Name: Men Cotton Pure Cotton T-shirt, Score: 0.8400000000000001, URL: https://www.myntra.com/tshirts/roadster/roadster-men-black-cotton-pure-cotton-t-shirt/1996777/buy\n",
      "Product Name: Women Pure Cotton T-shirt, Score: 0.9, URL: https://www.myntra.com/tshirts/dillinger/dillinger-women-navy-blue-typography-printed-pure-cotton-t-shirt/15598180/buy\n",
      "Product Name: Typography Print T-shirt, Score: 0.8, URL: https://www.myntra.com/tshirts/huetrap/huetrap-men-beige--black-typography-printed-sustainable-t-shirt/11148764/buy\n",
      "Product Name: Printed Round Neck Pure Cotton T-shirt, Score: 0.8400000000000001, URL: https://www.myntra.com/tshirts/roadster/roadster-men-green--white-printed-round-neck-pure-cotton-t-shirt/11545192/buy\n",
      "Product Name: Boys Pack of 5 T-shirt, Score: 0.82, URL: https://www.myntra.com/tshirts/hellcat/hellcat-boys-grey--orange-pack-of-5-typography-printed-t-shirt/17137560/buy\n",
      "Product Name: Polo Collar Cotton Pure Cotton T-shirt, Score: 0.82, URL: https://www.myntra.com/tshirts/roadster/roadster-men-black-polo-collar-cotton-pure-cotton-t-shirt/1996801/buy\n",
      "Product Name: Boys Pack Of 5 Printed T-shirt, Score: 0.82, URL: https://www.myntra.com/tshirts/hellcat/hellcat-boys-pack-of-5-typography-printed-bio-finish-t-shirt/17137550/buy\n",
      "Product Name: Printed Pure Cotton T-shirt, Score: 0.8400000000000001, URL: https://www.myntra.com/tshirts/hrx-by-hrithik-roshan/hrx-by-hrithik-roshan-men-teal-blue-printed-pure-cotton-t-shirt/1700871/buy\n",
      "Product Name: Printed Round Neck Pure Cotton T-shirt, Score: 0.82, URL: https://www.myntra.com/tshirts/roadster/roadster-women-pink--burgundy-printed-round-neck-pure-cotton-longline-t-shirt/12193826/buy\n",
      "Product Name: Printed Round Neck Pure Cotton T-shirt, Score: 0.82, URL: https://www.myntra.com/tshirts/roadster/roadster-women-lavender-printed-round-neck-pure-cotton-t-shirt/10968510/buy\n"
     ]
    }
   ],
   "source": [
    "def recommend_products(model, user_id, user_id_map, item_id_map, num_recommendations=10):\n",
    "    user = user_id_map[user_id]\n",
    "    item = np.array(list(item_id_map.values()))\n",
    "    user_array = np.array([user] * len(item))\n",
    "    scores = model.predict([user_array, item]).flatten()\n",
    "    \n",
    "    indices = scores.argsort()[-num_recommendations:1][::-1]\n",
    "    to_items = [list(item_id_map.keys())[idx] for idx in indices]\n",
    "    return to_items\n",
    "\n",
    "#Example recommendation\n",
    "user_id = 313\n",
    "recommended_item_ids = recommend_products(model, user_id, user_id_map, item_id_map, num_recommendations=10)\n",
    "\n",
    "\n",
    "recommendations = data[data['asin'].isin(recommended_item_ids)][['name', 'score', 'purl']]\n",
    "recommendations =recommendations.iloc[:11,:]\n",
    "for idx, row in recommendations.iterrows():\n",
    "    print(f\"Product Name: {row['name']}, Score: {row['score']}, URL: {row['purl']}\")\n"
   ]
  },
  {
   "cell_type": "code",
   "execution_count": 33,
   "id": "99ab821e",
   "metadata": {},
   "outputs": [
    {
     "name": "stdout",
     "output_type": "stream",
     "text": [
      "32/32 [==============================] - 0s 2ms/step\n",
      "RMSE: 0.44508917287956734\n",
      "MAE: 0.4185788988259435\n"
     ]
    }
   ],
   "source": [
    "#Evaluation\n",
    "import numpy as np\n",
    "from sklearn.metrics import mean_squared_error\n",
    "\n",
    "def predict_scores(model, test_data, user_id_map, item_id_map):\n",
    "    user_internal_ids = test_data['id'].map(user_id_map).values\n",
    "    item_internal_ids = test_data['asin'].map(item_id_map).values\n",
    "    \n",
    "    predicted_scores = model.predict([user_internal_ids, item_internal_ids]).flatten()\n",
    "    return predicted_scores\n",
    "\n",
    "predicted_scores = predict_scores(model, test_data, user_id_map, item_id_map)\n",
    "actual_scores = test_data['score'].values\n",
    "\n",
    "#RMSE\n",
    "rmse = np.sqrt(mean_squared_error(actual_scores, predicted_scores))\n",
    "print(f'RMSE: {rmse}')\n",
    "# MAE\n",
    "from sklearn.metrics import mean_absolute_error\n",
    "mae = mean_absolute_error(actual_scores, predicted_scores)\n",
    "print(f'MAE: {mae}')\n"
   ]
  },
  {
   "cell_type": "code",
   "execution_count": null,
   "id": "33d4c176",
   "metadata": {},
   "outputs": [],
   "source": []
  },
  {
   "cell_type": "code",
   "execution_count": null,
   "id": "fc70cbef",
   "metadata": {},
   "outputs": [],
   "source": []
  }
 ],
 "metadata": {
  "kernelspec": {
   "display_name": "Python 3 (ipykernel)",
   "language": "python",
   "name": "python3"
  },
  "language_info": {
   "codemirror_mode": {
    "name": "ipython",
    "version": 3
   },
   "file_extension": ".py",
   "mimetype": "text/x-python",
   "name": "python",
   "nbconvert_exporter": "python",
   "pygments_lexer": "ipython3",
   "version": "3.10.9"
  }
 },
 "nbformat": 4,
 "nbformat_minor": 5
}
